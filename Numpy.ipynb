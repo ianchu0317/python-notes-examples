{
 "cells": [
  {
   "cell_type": "markdown",
   "id": "2b35569a",
   "metadata": {},
   "source": [
    "# Numpy Basics\n",
    "\n",
    "En el presente archivo se propone como objetivos principales los mencionados: \n",
    "1. Aprendizaje e implementación de NumPy en proyectos. \n",
    "2. Aprendizaje y práctica en el manejo de Jupyter Notebook\n",
    "\n",
    "El código utilizado y el tutorial a seguir se encuentran en la <a href=\"https://numpy.org/doc/stable/user/absolute_beginners.html\">página oficial de NumPy</a>.\n",
    "\n",
    "## Creación de arrays"
   ]
  },
  {
   "cell_type": "code",
   "execution_count": 22,
   "id": "087c42ae",
   "metadata": {},
   "outputs": [],
   "source": [
    "def d(array):\n",
    "    print(array)"
   ]
  },
  {
   "cell_type": "code",
   "execution_count": 23,
   "id": "bd9548ac",
   "metadata": {},
   "outputs": [
    {
     "name": "stdout",
     "output_type": "stream",
     "text": [
      "[1 2 3 4 5]\n",
      "[0 1 2 3 4]\n",
      "[ 1.   3.5  6.   8.5 11. ]\n",
      "[0. 0.]\n",
      "[1. 1. 1.]\n",
      "[6.23042070e-307 4.67296746e-307 1.69121096e-306 3.33772113e-307\n",
      " 2.67018234e-306 1.42413555e-306 1.78019082e-306 1.37959740e-306\n",
      " 2.29178686e-312]\n"
     ]
    }
   ],
   "source": [
    "import numpy as np    # np es una convención utilizada y aceptada para mayor legibilidad\n",
    "\n",
    "# np.array()\n",
    "a = np.array([1,2,3,4,5])\n",
    "\n",
    "# np.arange(inicio, final, paso)\n",
    "b = np.arange(0, 5, 1)\n",
    "\n",
    "# la dimensión de un array es denominado axes en NumPy\n",
    "\n",
    "# np.linspace(inicio, final, cantidad de numeros en el medio)\n",
    "c = np.linspace(1, 11, 5)\n",
    "\n",
    "# np.zeros(cantidad de ceros en array)\n",
    "e = np.zeros(2)\n",
    "\n",
    "# np.ones(cantidad de unos)\n",
    "f = np.ones(3)\n",
    "\n",
    "# np.empty(size) array con numeros random\n",
    "g = np.empty(9)\n",
    "\n",
    "# Imprimir resultados\n",
    "d(a)\n",
    "d(b)\n",
    "d(c)\n",
    "d(e)\n",
    "d(f)\n",
    "d(g)"
   ]
  },
  {
   "cell_type": "markdown",
   "id": "a5d97797",
   "metadata": {},
   "source": [
    "## Operaciones: concatenación, remover y ordenamiento"
   ]
  },
  {
   "cell_type": "code",
   "execution_count": null,
   "id": "3e72d606",
   "metadata": {},
   "outputs": [],
   "source": [
    "# np.sort()\n"
   ]
  }
 ],
 "metadata": {
  "kernelspec": {
   "display_name": "Python 3 (ipykernel)",
   "language": "python",
   "name": "python3"
  },
  "language_info": {
   "codemirror_mode": {
    "name": "ipython",
    "version": 3
   },
   "file_extension": ".py",
   "mimetype": "text/x-python",
   "name": "python",
   "nbconvert_exporter": "python",
   "pygments_lexer": "ipython3",
   "version": "3.10.2"
  }
 },
 "nbformat": 4,
 "nbformat_minor": 5
}
