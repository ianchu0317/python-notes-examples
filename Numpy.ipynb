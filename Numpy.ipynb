{
 "cells": [
  {
   "cell_type": "markdown",
   "id": "2b35569a",
   "metadata": {},
   "source": [
    "# Numpy Basics\n",
    "\n",
    "En el presente archivo se propone como objetivos principales los mencionados: \n",
    "1. Aprendizaje e implementación de NumPy en proyectos. \n",
    "2. Aprendizaje y práctica en el manejo de Jupyter Notebook\n",
    "\n",
    "El código utilizado y el tutorial a seguir se encuentran en la <a href=\"https://numpy.org/doc/stable/user/absolute_beginners.html\">página oficial de NumPy</a>.\n",
    "\n",
    "## Creación de arrays"
   ]
  },
  {
   "cell_type": "code",
   "execution_count": 1,
   "id": "087c42ae",
   "metadata": {},
   "outputs": [],
   "source": [
    "import pprint\n",
    "def display(message, array):\n",
    "    print(f'{message}: ')\n",
    "    pprint.pprint(array)\n",
    "    print('----------------------------')"
   ]
  },
  {
   "cell_type": "code",
   "execution_count": 28,
   "id": "bd9548ac",
   "metadata": {},
   "outputs": [
    {
     "name": "stdout",
     "output_type": "stream",
     "text": [
      "a: \n",
      "array([1, 2, 3, 4, 5])\n",
      "----------------------------\n",
      "\n",
      "b: \n",
      "array([0, 1, 2, 3, 4])\n",
      "----------------------------\n",
      "\n",
      "c: \n",
      "array([ 1. ,  3.5,  6. ,  8.5, 11. ])\n",
      "----------------------------\n",
      "\n",
      "e: \n",
      "array([0., 0.])\n",
      "----------------------------\n",
      "\n",
      "f: \n",
      "array([1., 1., 1.])\n",
      "----------------------------\n",
      "\n",
      "g: \n",
      "array([4.24399158e-314, 8.48798317e-314, 1.27319747e-313, 1.69759663e-313,\n",
      "       2.12199579e-313, 2.54639495e-313, 2.97079411e-313, 3.39519327e-313,\n",
      "       3.81959242e-313])\n",
      "----------------------------\n",
      "\n"
     ]
    }
   ],
   "source": [
    "import numpy as np    # np es una convención utilizada y aceptada para mayor legibilidad\n",
    "\n",
    "# np.array()\n",
    "a = np.array([1,2,3,4,5])\n",
    "\n",
    "# np.arange(inicio, final, paso)\n",
    "b = np.arange(0, 5, 1)\n",
    "\n",
    "# la dimensión de un array es denominado axes en NumPy\n",
    "\n",
    "# np.linspace(inicio, final, cantidad de numeros en el medio)\n",
    "c = np.linspace(1, 11, 5)\n",
    "\n",
    "# np.zeros(cantidad de ceros en array)\n",
    "# np.zeros((shape)) ex. np.zeros((4, 5))\n",
    "e = np.zeros(2)\n",
    "\n",
    "# np.ones(cantidad de unos)\n",
    "# np.ones((shape)) ex. np.ones((2, 3))\n",
    "f = np.ones(3)\n",
    "\n",
    "# np.empty(size) array con numeros random\n",
    "g = np.empty(9)\n",
    "\n",
    "# Imprimir resultados\n",
    "display('a', a)\n",
    "display('b', b)\n",
    "display('c', c)\n",
    "display('e', e)\n",
    "display('f', f)\n",
    "display('g', g)"
   ]
  },
  {
   "cell_type": "markdown",
   "id": "a5d97797",
   "metadata": {},
   "source": [
    "## Operaciones: concatenación, remover y ordenamiento"
   ]
  },
  {
   "cell_type": "code",
   "execution_count": 13,
   "id": "3e72d606",
   "metadata": {},
   "outputs": [
    {
     "name": "stdout",
     "output_type": "stream",
     "text": [
      "[4 5 6 3 2 1 9 0 7 8]\n",
      "[0 1 2 3 4]\n",
      "[4 5 6 3 2 1 9 0 7 8 0 1 2 3 4]\n"
     ]
    }
   ],
   "source": [
    "# np.sort(array)\n",
    "a = np.array([4,5,6,3,2,1,9,0,7,8])\n",
    "b = np.sort(b)\n",
    "d(a)\n",
    "d(b)\n",
    "\n",
    "# np.concatenate((arr1, arr2))\n",
    "c = np.concatenate((a, b), axis=0) # 1 dimension array, axis=1\n",
    "d(c)\n",
    "\n",
    "# la utilizacion de esta ultima se pasan los arrays dentro de una tupla"
   ]
  },
  {
   "cell_type": "markdown",
   "id": "952cf882",
   "metadata": {},
   "source": [
    "## Forma, dimensión y tamaño de un array"
   ]
  },
  {
   "cell_type": "code",
   "execution_count": 46,
   "id": "6827ebe8",
   "metadata": {},
   "outputs": [
    {
     "name": "stdout",
     "output_type": "stream",
     "text": [
      "[[1 2 3]\n",
      " [4 5 6]]\n",
      "2\n",
      "6\n",
      "(2, 3)\n",
      "new array: \n",
      "[[1 2 3 4 5 6]]\n",
      "3x2 array: [[1 2]\n",
      " [3 4]\n",
      " [5 6]]\n"
     ]
    }
   ],
   "source": [
    "# array.ndim    devuelve axes, o la dimensión del array \n",
    "# array.size    devuelve el tamaño del array que es el producto del array.shape, \n",
    "#               como es fila x columna entonces es lo mismo que la cantidad de elementos en array\n",
    "# array.shape   devuelve el tamaño del array en una tupla: (row, column, elements)\n",
    "\n",
    "#      (column)  (column)\n",
    "# (row) ---+---|----+-----\n",
    "# (row) ---+---|----+-----\n",
    "\n",
    "\n",
    "array = np.array([[1,2,3],\n",
    "                  [4,5,6]])\n",
    "d(array)\n",
    "d(array.ndim)\n",
    "d(array.size)\n",
    "d(array.shape)\n",
    "\n",
    "# array.reshape(row, column) devuelve copia del original cambiando la dimensión\n",
    "new_array = array.reshape(1,6)\n",
    "print('new array: ')\n",
    "d(new_array)\n",
    "\n",
    "# np.reshape(array, newshape=(row, column), order='')\n",
    "new_array = np.reshape(new_array, newshape=(3,2))\n",
    "print('3x2 array: ', end='')\n",
    "d(new_array)\n",
    "\n",
    "# Nota: al usar reshape es necesario tener en cuenta la cantidad de elementos: \n",
    "# array final debe tener la misma cantidad de elementos que array original."
   ]
  },
  {
   "cell_type": "markdown",
   "id": "6dd79ad6",
   "metadata": {},
   "source": [
    "## Conversión 1D a 2D"
   ]
  },
  {
   "cell_type": "code",
   "execution_count": 47,
   "id": "df47546d",
   "metadata": {},
   "outputs": [],
   "source": [
    "# saltear\n",
    "# np.newaxis\n",
    "# np.expand_dims "
   ]
  },
  {
   "cell_type": "markdown",
   "id": "55d743ba",
   "metadata": {},
   "source": [
    "## Indexing & Slicing"
   ]
  },
  {
   "cell_type": "code",
   "execution_count": 1,
   "id": "3ec7918b",
   "metadata": {},
   "outputs": [
    {
     "name": "stdout",
     "output_type": "stream",
     "text": [
      "[1 2 3]\n",
      "[11 12]\n",
      "[ 2  4  6  8 10 12]\n",
      "[ 6  8 10 12]\n"
     ]
    }
   ],
   "source": [
    "# Utilización igual que en listas de python:  array[inicio:final] -> array[(incluye:(no incluye)]\n",
    "import numpy as np\n",
    "\n",
    "arr = np.array([1,2,3,4,5,6])\n",
    "print(arr[:-3])   # [1,2,3]\n",
    "\n",
    "\n",
    "# slicing con condiciones: devuelve un array con los elementos que cumplen con la condición\n",
    "arr = np.array([[1 , 2, 3, 4], \n",
    "                [5, 6, 7, 8], \n",
    "                [9, 10, 11, 12]])\n",
    "\n",
    "print(arr[arr > 10])         # [11, 12]\n",
    "\n",
    "even_number = arr[arr%2==0]  # select even number from array\n",
    "print(even_number)\n",
    "\n",
    "\n",
    "# intersección & y |\n",
    "interseccion = arr[(arr > 5) & (arr%2==0)]  # numeros en array mayor a cinco y multiplos de dos\n",
    "print(interseccion)\n"
   ]
  },
  {
   "cell_type": "markdown",
   "id": "d9ff8064",
   "metadata": {},
   "source": [
    "## Array creation from existing data (array)"
   ]
  },
  {
   "cell_type": "code",
   "execution_count": 2,
   "id": "1629889b",
   "metadata": {},
   "outputs": [
    {
     "name": "stdout",
     "output_type": "stream",
     "text": [
      "[4 6 8]\n",
      "\n",
      "[[0 1]\n",
      " [2 3]\n",
      " [5 6]\n",
      " [7 8]]\n",
      "\n",
      "[[0 1 5 6]\n",
      " [2 3 7 8]]\n",
      "\n",
      "[[ 1  2  3  4  5  6]\n",
      " [ 7  8  9 10 11 12]\n",
      " [13 14 15 16 17 18]]\n",
      "[array([[ 1,  2],\n",
      "       [ 7,  8],\n",
      "       [13, 14]]), array([[ 3,  4],\n",
      "       [ 9, 10],\n",
      "       [15, 16]]), array([[ 5,  6],\n",
      "       [11, 12],\n",
      "       [17, 18]])]\n",
      "[array([[1, 2, 3, 4, 5, 6]]), array([[ 7,  8,  9, 10, 11, 12]]), array([[13, 14, 15, 16, 17, 18]])]\n",
      "\n",
      "[[ 0  1  2  3  4  5  6]\n",
      " [ 7  8  9 10 11 12 13]\n",
      " [14 15 16 17 18 19 20]]\n",
      "[[97  1  2  3  4  5  6]\n",
      " [ 7  8  9 10 11 12 13]\n",
      " [14 15 16 17 18 19 20]]\n",
      "[[76  1  2  3  4  5  6]\n",
      " [ 7  8  9 10 11 12 13]\n",
      " [14 15 16 17 18 19 20]]\n",
      "[[97  1  2  3  4  5  6]\n",
      " [ 7  8  9 10 11 12 13]\n",
      " [14 15 16 17 18 19 20]]\n"
     ]
    }
   ],
   "source": [
    "import numpy as np\n",
    "\n",
    "# usando slicing y creando nuevo array a base de copia de original\n",
    "a = np.arange(1, 21, 1)\n",
    "copy_a = a[3:8]               # [4,5,6,7,8]\n",
    "print(copy_a[copy_a%2==0])    # solo los numeros pares\n",
    "print()\n",
    "\n",
    "# np.vstack((arr1, arr2))   es como el concatenar pero en vertical\n",
    "a1 = np.arange(4).reshape(2,2)\n",
    "#  [[0 1]\n",
    "#  [2 3]]\n",
    "\n",
    "a2 = np.arange(5,9).reshape(2,2)\n",
    "#  [[5 6]\n",
    "#  [7 8]]\n",
    "\n",
    "b = np.vstack((a1, a2))\n",
    "print(b)\n",
    "print()\n",
    "\n",
    "\n",
    "# np.hstack((arr1, arr2))   es como el concatenar pero en horizontal: deben tener la misma dimensión\n",
    "c = np.hstack((a1, a2))\n",
    "print(c)\n",
    "print()\n",
    "\n",
    "\n",
    "# np.hsplit(array, cantidad de split) el split realizado respeta la dimensión del array original\n",
    "arr = np.arange(1,19).reshape(3,6)\n",
    "print(arr)\n",
    "# [[ 1  2  3  4  5  6]\n",
    "#  [ 7  8  9 10 11 12]\n",
    "#  [13 14 15 16 17 18]]\n",
    "\n",
    "split_arr = np.hsplit(arr, 3)\n",
    "print(split_arr)\n",
    "\n",
    "# np.vsplit(array, (forma))              este corta verticalmente (columna), y por ende si es un array de 2x3 y lo dividís por 2,\n",
    "                                       # entonces van a ser 2 array de 3 elementos\n",
    "split_arr = np.vsplit(arr, 3)\n",
    "print(split_arr)\n",
    "print()\n",
    "\n",
    "# array.view() y array.copy()\n",
    "# En el array.view() se crea una copia del original pero comparten mismo puntero y se modifican el mismo array\n",
    "# En el array.copy() se crea una copia del original pero son dos arrays distintos\n",
    "\n",
    "a = np.arange(21).reshape(3,7)\n",
    "print(a)\n",
    "b = a.view()\n",
    "b[0][0] = 97\n",
    "print(a)\n",
    "\n",
    "# array.copy()\n",
    "b = a.copy()\n",
    "b[0][0] = 76\n",
    "print(b)\n",
    "print(a)"
   ]
  },
  {
   "cell_type": "markdown",
   "id": "acc11eb9",
   "metadata": {},
   "source": [
    "## Operaciones básicas con arrays"
   ]
  },
  {
   "cell_type": "code",
   "execution_count": 27,
   "id": "6f3eed7b",
   "metadata": {},
   "outputs": [
    {
     "ename": "SyntaxError",
     "evalue": "invalid syntax (3906135117.py, line 47)",
     "output_type": "error",
     "traceback": [
      "\u001b[1;36m  Cell \u001b[1;32mIn[27], line 47\u001b[1;36m\u001b[0m\n\u001b[1;33m    c = np.array([x for in range(15) if x % 2 == 0])\u001b[0m\n\u001b[1;37m                        ^\u001b[0m\n\u001b[1;31mSyntaxError\u001b[0m\u001b[1;31m:\u001b[0m invalid syntax\n"
     ]
    }
   ],
   "source": [
    "# sumas, restas, multiplicación y división \n",
    "import pprint\n",
    "a = np.arange(41, 45).reshape(2, 2)\n",
    "b = np.arange(1, 5).reshape(2, 2)\n",
    "display('a', a)\n",
    "display('b', b)\n",
    "display('a + b', a+b)\n",
    "display('a - b', a-b)\n",
    "\n",
    "# multiplicación y división es distinta al producto de matrices; en este caso se da entre celdas y celdas\n",
    "display('a * b', a*b)\n",
    "# teniendo dos 'matrices' a=[[41, 42], [43, 44]] y b=[[1, 2], [3, 4]], \n",
    "# el producto de estas deberia ser a.b=[[167, 250], [175, 262]]\n",
    "display('a / b', a/b)\n",
    "\n",
    "\n",
    "# array.sum()  -> calcula la suma total de los elementos que pertenecen al array\n",
    "my_array = np.arange(1, 11).reshape(5, 2)\n",
    "print(f'my_array.sum(): {my_array.sum()}')\n",
    "my_array = my_array.reshape(2, 5)\n",
    "display('my_arra.sum()', my_array.sum())\n",
    "\n",
    "\n",
    "# broadcasting -> multiplicación de escalar x vector -> se realiza la multiplicación del escalar por cada celda\n",
    "display('b * 1.8', b*1.8)\n",
    "\n",
    "\n",
    "# array.max()\n",
    "my_arr = np.arange(1, 11)\n",
    "print(\"my_arr = \", my_arr)\n",
    "display('my_arr.max()', my_arr.max())\n",
    "\n",
    "# array.min()\n",
    "display('my_arr.min()', my_arr.min())\n",
    "\n",
    "# array.mean() --> average \n",
    "display('my_arr.mean()', my_arr.mean())\n",
    "\n",
    "# array.prod() --> multiplication of elements in array\n",
    "display('my_arr.prod()', my_arr.prod())\n",
    "\n",
    "# array.std() --> standard deviation\n",
    "display('my_arr.std()', my_arr.std())\n",
    "\n",
    "\n",
    "# np.unique() --> elementos únicos \n",
    "c = np.array([x for x in range(15) if x % 2 == 0])\n",
    "print(c)"
   ]
  },
  {
   "cell_type": "markdown",
   "id": "7b197cf6",
   "metadata": {},
   "source": [
    "## 2-D array (matrix)"
   ]
  },
  {
   "cell_type": "code",
   "execution_count": 18,
   "id": "4d33b273",
   "metadata": {},
   "outputs": [
    {
     "name": "stdout",
     "output_type": "stream",
     "text": [
      "matrix: \n",
      "array([[ 1,  2,  3,  4],\n",
      "       [ 5,  6,  7,  8],\n",
      "       [ 9, 10, 11, 12]])\n",
      "----------------------------\n",
      "matrix[0][1]:  2\n",
      "matrix[0, 1]: \n",
      "2\n",
      "----------------------------\n",
      "matrix[1:3, 1:3]: \n",
      "array([[ 6,  7],\n",
      "       [10, 11]])\n",
      "----------------------------\n"
     ]
    }
   ],
   "source": [
    "# axis=0 --> columns \n",
    "# axis=1 --> rows\n",
    "\n",
    "import numpy as np \n",
    "\n",
    "matrix = np.arange(1, 13).reshape(3, 4)\n",
    "display('matrix', matrix)\n",
    "\n",
    "# array.min(axis)\n",
    "matrix.sum(axis=1)\n",
    "\n",
    "# indexing\n",
    "print('matrix[0][1]: ', matrix[0][1])\n",
    "display('matrix[0, 1]', matrix[0, 1])\n",
    "\n",
    "# slicing mtrx[row:row, column:column] \n",
    "# seleccion de 6, 7, 10, 11\n",
    "display('matrix[1:3, 1:3]', matrix[1:3, 1:3])\n",
    "\n",
    "\n",
    "# transponer matriz --> \n"
   ]
  },
  {
   "cell_type": "markdown",
   "id": "82d4f56f",
   "metadata": {},
   "source": [
    "### Random number generation"
   ]
  },
  {
   "cell_type": "code",
   "execution_count": 23,
   "id": "a805d653",
   "metadata": {},
   "outputs": [
    {
     "name": "stdout",
     "output_type": "stream",
     "text": [
      "new_array (random): \n",
      "array([[1, 5],\n",
      "       [4, 4],\n",
      "       [1, 2]], dtype=int64)\n",
      "----------------------------\n"
     ]
    }
   ],
   "source": [
    "import numpy as np\n",
    "\n",
    "# random.Generator class\n",
    "rng = np.random.default_rng()\n",
    "\n",
    "# generator.integers(stop, size=(row, column))\n",
    "new_array = rng.integers(6, size=(3, 2))\n",
    "display('new_array (random)', new_array)"
   ]
  },
  {
   "cell_type": "code",
   "execution_count": null,
   "id": "e82a200e",
   "metadata": {},
   "outputs": [],
   "source": []
  }
 ],
 "metadata": {
  "kernelspec": {
   "display_name": "Python 3 (ipykernel)",
   "language": "python",
   "name": "python3"
  },
  "language_info": {
   "codemirror_mode": {
    "name": "ipython",
    "version": 3
   },
   "file_extension": ".py",
   "mimetype": "text/x-python",
   "name": "python",
   "nbconvert_exporter": "python",
   "pygments_lexer": "ipython3",
   "version": "3.10.2"
  }
 },
 "nbformat": 4,
 "nbformat_minor": 5
}
