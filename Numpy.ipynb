{
 "cells": [
  {
   "cell_type": "markdown",
   "id": "2b35569a",
   "metadata": {},
   "source": [
    "# Numpy Basics\n",
    "\n",
    "En el presente archivo se propone como objetivos principales los mencionados: \n",
    "1. Aprendizaje e implementación de NumPy en proyectos. \n",
    "2. Aprendizaje y práctica en el manejo de Jupyter Notebook\n",
    "\n",
    "El código utilizado y el tutorial a seguir se encuentran en la <a href=\"https://numpy.org/doc/stable/user/absolute_beginners.html\">página oficial de NumPy</a>.\n",
    "\n",
    "## Creación de arrays"
   ]
  },
  {
   "cell_type": "code",
   "execution_count": 2,
   "id": "087c42ae",
   "metadata": {},
   "outputs": [],
   "source": [
    "def d(array):\n",
    "    print(array)"
   ]
  },
  {
   "cell_type": "code",
   "execution_count": 3,
   "id": "bd9548ac",
   "metadata": {},
   "outputs": [
    {
     "name": "stdout",
     "output_type": "stream",
     "text": [
      "[1 2 3 4 5]\n",
      "[0 1 2 3 4]\n",
      "[ 1.   3.5  6.   8.5 11. ]\n",
      "[0. 0.]\n",
      "[1. 1. 1.]\n",
      "[0.00000000e+000 0.00000000e+000 0.00000000e+000 0.00000000e+000\n",
      " 0.00000000e+000 7.35169681e-321 1.06166640e-153 2.59345405e+161\n",
      " 2.46089539e-154]\n"
     ]
    }
   ],
   "source": [
    "import numpy as np    # np es una convención utilizada y aceptada para mayor legibilidad\n",
    "\n",
    "# np.array()\n",
    "a = np.array([1,2,3,4,5])\n",
    "\n",
    "# np.arange(inicio, final, paso)\n",
    "b = np.arange(0, 5, 1)\n",
    "\n",
    "# la dimensión de un array es denominado axes en NumPy\n",
    "\n",
    "# np.linspace(inicio, final, cantidad de numeros en el medio)\n",
    "c = np.linspace(1, 11, 5)\n",
    "\n",
    "# np.zeros(cantidad de ceros en array)\n",
    "e = np.zeros(2)\n",
    "\n",
    "# np.ones(cantidad de unos)\n",
    "f = np.ones(3)\n",
    "\n",
    "# np.empty(size) array con numeros random\n",
    "g = np.empty(9)\n",
    "\n",
    "# Imprimir resultados\n",
    "d(a)\n",
    "d(b)\n",
    "d(c)\n",
    "d(e)\n",
    "d(f)\n",
    "d(g)"
   ]
  },
  {
   "cell_type": "markdown",
   "id": "a5d97797",
   "metadata": {},
   "source": [
    "## Operaciones: concatenación, remover y ordenamiento"
   ]
  },
  {
   "cell_type": "code",
   "execution_count": 13,
   "id": "3e72d606",
   "metadata": {},
   "outputs": [
    {
     "name": "stdout",
     "output_type": "stream",
     "text": [
      "[4 5 6 3 2 1 9 0 7 8]\n",
      "[0 1 2 3 4]\n",
      "[4 5 6 3 2 1 9 0 7 8 0 1 2 3 4]\n"
     ]
    }
   ],
   "source": [
    "# np.sort(array)\n",
    "a = np.array([4,5,6,3,2,1,9,0,7,8])\n",
    "b = np.sort(b)\n",
    "d(a)\n",
    "d(b)\n",
    "\n",
    "# np.concatenate((arr1, arr2))\n",
    "c = np.concatenate((a, b), axis=0) # 1 dimension array, axis=1\n",
    "d(c)\n",
    "\n",
    "# la utilizacion de esta ultima se pasan los arrays dentro de una tupla"
   ]
  },
  {
   "cell_type": "markdown",
   "id": "952cf882",
   "metadata": {},
   "source": [
    "## Forma, dimensión y tamaño de un array"
   ]
  },
  {
   "cell_type": "code",
   "execution_count": 46,
   "id": "6827ebe8",
   "metadata": {},
   "outputs": [
    {
     "name": "stdout",
     "output_type": "stream",
     "text": [
      "[[1 2 3]\n",
      " [4 5 6]]\n",
      "2\n",
      "6\n",
      "(2, 3)\n",
      "new array: \n",
      "[[1 2 3 4 5 6]]\n",
      "3x2 array: [[1 2]\n",
      " [3 4]\n",
      " [5 6]]\n"
     ]
    }
   ],
   "source": [
    "# array.ndim    devuelve axes, o la dimensión del array \n",
    "# array.size    devuelve el tamaño del array que es el producto del array.shape, \n",
    "#               como es fila x columna entonces es lo mismo que la cantidad de elementos en array\n",
    "# array.shape   devuelve el tamaño del array en una tupla: (row, column, elements)\n",
    "\n",
    "#      (column)  (column)\n",
    "# (row) ---+---|----+-----\n",
    "# (row) ---+---|----+-----\n",
    "\n",
    "\n",
    "array = np.array([[1,2,3],\n",
    "                  [4,5,6]])\n",
    "d(array)\n",
    "d(array.ndim)\n",
    "d(array.size)\n",
    "d(array.shape)\n",
    "\n",
    "# array.reshape(row, column) devuelve copia del original cambiando la dimensión\n",
    "new_array = array.reshape(1,6)\n",
    "print('new array: ')\n",
    "d(new_array)\n",
    "\n",
    "# np.reshape(array, newshape=(row, column), order='')\n",
    "new_array = np.reshape(new_array, newshape=(3,2))\n",
    "print('3x2 array: ', end='')\n",
    "d(new_array)\n",
    "\n",
    "# Nota: al usar reshape es necesario tener en cuenta la cantidad de elementos: \n",
    "# array final debe tener la misma cantidad de elementos que array original."
   ]
  },
  {
   "cell_type": "markdown",
   "id": "6dd79ad6",
   "metadata": {},
   "source": [
    "## Conversión 1D a 2D"
   ]
  },
  {
   "cell_type": "code",
   "execution_count": 47,
   "id": "df47546d",
   "metadata": {},
   "outputs": [],
   "source": [
    "# saltear\n",
    "# np.newaxis\n",
    "# np.expand_dims "
   ]
  },
  {
   "cell_type": "markdown",
   "id": "55d743ba",
   "metadata": {},
   "source": [
    "## Indexing & Slicing"
   ]
  },
  {
   "cell_type": "code",
   "execution_count": 9,
   "id": "3ec7918b",
   "metadata": {},
   "outputs": [
    {
     "name": "stdout",
     "output_type": "stream",
     "text": [
      "[1 2 3]\n",
      "[11 12]\n",
      "[ 2  4  6  8 10 12]\n",
      "[ 6  8 10 12]\n"
     ]
    }
   ],
   "source": [
    "# Utilización igual que en listas de python:  array[inicio:final] -> array[(incluye:(no incluye)]\n",
    "import numpy as np\n",
    "\n",
    "arr = np.array([1,2,3,4,5,6])\n",
    "print(arr[:-3])   # [1,2,3]\n",
    "\n",
    "\n",
    "# slicing con condiciones: devuelve un array con los elementos que cumplen con la condición\n",
    "arr = np.array([[1 , 2, 3, 4], \n",
    "                [5, 6, 7, 8], \n",
    "                [9, 10, 11, 12]])\n",
    "\n",
    "print(arr[arr > 10])         # [11, 12]\n",
    "\n",
    "even_number = arr[arr%2==0]  # select even number from array\n",
    "print(even_number)\n",
    "\n",
    "\n",
    "# intersección & y |\n",
    "interseccion = arr[(arr > 5) & (arr%2==0)]  # numeros en array mayor a cinco y multiplos de dos\n",
    "print(interseccion)\n"
   ]
  },
  {
   "cell_type": "markdown",
   "id": "d9ff8064",
   "metadata": {},
   "source": [
    "## Array creation from existing data (array)"
   ]
  },
  {
   "cell_type": "code",
   "execution_count": null,
   "id": "1629889b",
   "metadata": {},
   "outputs": [],
   "source": [
    "# usando slicing y creando nuevo array a base de copia de original\n",
    "a = np.arange(1, 21, 1)\n",
    "copy_a = a[3:8]               # [4,5,6,7,8]\n",
    "print(copy_a[copy_a%2==0])    # solo los numeros pares\n",
    "print()\n",
    "\n",
    "# np.vstack((arr1, arr2))   es como el concatenar pero en vertical\n",
    "a1 = np.arange(4).reshape(2,2)\n",
    "#  [[0 1]\n",
    "#  [2 3]]\n",
    "\n",
    "a2 = np.arange(5,9).reshape(2,2)\n",
    "#  [[5 6]\n",
    "#  [7 8]]\n",
    "\n",
    "b = np.vstack((a1, a2))\n",
    "print(b)\n",
    "print()\n",
    "\n",
    "\n",
    "# np.hstack((arr1, arr2))   es como el concatenar pero en horizontal: deben tener la misma dimensión\n",
    "c = np.hstack((a1, a2))\n",
    "print(c)\n",
    "print()\n",
    "\n",
    "\n",
    "# np.hsplit(array, cantidad de split) el split realizado respeta la dimensión del array original\n",
    "arr = np.arange(1,19).reshape(3,6)\n",
    "print(arr)\n",
    "# [[ 1  2  3  4  5  6]\n",
    "#  [ 7  8  9 10 11 12]\n",
    "#  [13 14 15 16 17 18]]\n",
    "\n",
    "split_arr = np.hsplit(arr, 3)\n",
    "print(split_arr)\n",
    "\n",
    "# np.vsplit(array, (forma))              este corta verticalmente, y por ende si es un array de 2x3 y lo dividís por 2,\n",
    "                                       # entonces van a ser 2 array de 3 elementos\n",
    "split_arr = np.vsplit(arr, 3)\n",
    "print(split_arr)\n"
   ]
  },
  {
   "cell_type": "markdown",
   "id": "acc11eb9",
   "metadata": {},
   "source": [
    "## Operaciones básicas con arrays"
   ]
  }
 ],
 "metadata": {
  "kernelspec": {
   "display_name": "Python 3 (ipykernel)",
   "language": "python",
   "name": "python3"
  },
  "language_info": {
   "codemirror_mode": {
    "name": "ipython",
    "version": 3
   },
   "file_extension": ".py",
   "mimetype": "text/x-python",
   "name": "python",
   "nbconvert_exporter": "python",
   "pygments_lexer": "ipython3",
   "version": "3.10.2"
  }
 },
 "nbformat": 4,
 "nbformat_minor": 5
}
